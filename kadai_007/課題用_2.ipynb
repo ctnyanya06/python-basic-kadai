{
  "nbformat": 4,
  "nbformat_minor": 0,
  "metadata": {
    "colab": {
      "provenance": []
    },
    "kernelspec": {
      "name": "python3",
      "display_name": "Python 3"
    },
    "language_info": {
      "name": "python"
    }
  },
  "cells": [
    {
      "cell_type": "code",
      "execution_count": 6,
      "metadata": {
        "id": "w_y_NyF9jBXR",
        "colab": {
          "base_uri": "https://localhost:8080/"
        },
        "outputId": "645ea5d2-ba2c-4634-968d-3e21816de272"
      },
      "outputs": [
        {
          "output_type": "stream",
          "name": "stdout",
          "text": [
            "水曜日は晴れです\n"
          ]
        }
      ],
      "source": [
        "#　リストを作成\n",
        "array=[\"月曜日は晴れです\", \"火曜日は雨です\", \"水曜日は晴れです\", \"木曜日は晴れです\", \"金曜日は曇りです\", \"土曜日は曇りのち雨です\", \"日曜日は雷雨です\"]\n",
        "\n",
        "#　水曜日の天気予報を取り出す\n",
        "print(array[2])"
      ]
    },
    {
      "cell_type": "code",
      "source": [
        "#　ディクショナリを作成\n",
        "dictionary={\"mon\": \"晴れ\", \"tue\": \"雨\", \"wed\": \"晴れ\", \"thu\": \"晴れ\", \"fri\": \"曇り\", \"sat\": \"曇りのち雨\", \"sun\": \"雷雨\"}\n",
        "\n",
        "#　キー「wed」の値を表示\n",
        "print(dictionary[\"wed\"])\n"
      ],
      "metadata": {
        "colab": {
          "base_uri": "https://localhost:8080/"
        },
        "id": "aNbuBaDIhgvj",
        "outputId": "5e6b4ec6-1eb7-4a61-df7b-d0a968e13848"
      },
      "execution_count": 7,
      "outputs": [
        {
          "output_type": "stream",
          "name": "stdout",
          "text": [
            "晴れ\n"
          ]
        }
      ]
    },
    {
      "cell_type": "code",
      "source": [],
      "metadata": {
        "id": "QC2WBuIUKu2m"
      },
      "execution_count": null,
      "outputs": []
    }
  ]
}