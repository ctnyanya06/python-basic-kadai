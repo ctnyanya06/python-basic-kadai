{
  "nbformat": 4,
  "nbformat_minor": 0,
  "metadata": {
    "colab": {
      "provenance": []
    },
    "kernelspec": {
      "name": "python3",
      "display_name": "Python 3"
    },
    "language_info": {
      "name": "python"
    }
  },
  "cells": [
    {
      "cell_type": "code",
      "execution_count": 1,
      "metadata": {
        "id": "kmDZ2j98NMuR",
        "colab": {
          "base_uri": "https://localhost:8080/"
        },
        "outputId": "06819def-2f9b-4166-ca71-a16f4d100a67"
      },
      "outputs": [
        {
          "output_type": "stream",
          "name": "stdout",
          "text": [
            "75.0cm²\n"
          ]
        }
      ],
      "source": [
        "#　台形の上辺と下辺、高さを定義\n",
        "up=10\n",
        "do=20\n",
        "hi=5\n",
        "\n",
        "#　台形の面積を計算\n",
        "area = (up + do) * hi / 2\n",
        "\n",
        "#　面積の表示\n",
        "print(str(area) + \"cm²\")\n"
      ]
    }
  ]
}