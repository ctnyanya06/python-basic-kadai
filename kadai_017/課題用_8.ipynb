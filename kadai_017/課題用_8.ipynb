{
  "nbformat": 4,
  "nbformat_minor": 0,
  "metadata": {
    "colab": {
      "provenance": []
    },
    "kernelspec": {
      "name": "python3",
      "display_name": "Python 3"
    },
    "language_info": {
      "name": "python"
    }
  },
  "cells": [
    {
      "cell_type": "code",
      "execution_count": 1,
      "metadata": {
        "colab": {
          "base_uri": "https://localhost:8080/"
        },
        "id": "rffrZWZrTzKk",
        "outputId": "5a97b1bd-20b7-497a-f2c0-649de63642a5"
      },
      "outputs": [
        {
          "output_type": "stream",
          "name": "stdout",
          "text": [
            "侍太郎は大人です。\n",
            "侍花子は大人ではありません。\n",
            "侍次郎は大人です。\n"
          ]
        }
      ],
      "source": [
        "# 名前(name)と年齢(age)の属性を持つHumanクラス\n",
        "class Human:\n",
        "    def __init__(self, name, age):\n",
        "        self.name = name\n",
        "        self.age = age\n",
        "\n",
        "# 20歳以上を判定する\n",
        "    def check_adult(self):\n",
        "        if self.age >= 20:\n",
        "            print(f\"{self.name}は大人です。\")\n",
        "        else:\n",
        "            print(f\"{self.name}は大人ではありません。\")\n",
        "\n",
        "# インスタンス化\n",
        "human1 = Human(\"侍太郎\", 36)\n",
        "human2 = Human(\"侍花子\", 15)\n",
        "human3 = Human(\"侍次郎\", 45)\n",
        "\n",
        "#リスト作成\n",
        "humans = [human1, human2, human3]\n",
        "\n",
        "for human in humans:\n",
        "    human.check_adult()\n"
      ]
    }
  ]
}