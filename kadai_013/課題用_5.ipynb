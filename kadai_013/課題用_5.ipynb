{
  "nbformat": 4,
  "nbformat_minor": 0,
  "metadata": {
    "colab": {
      "provenance": []
    },
    "kernelspec": {
      "name": "python3",
      "display_name": "Python 3"
    },
    "language_info": {
      "name": "python"
    }
  },
  "cells": [
    {
      "cell_type": "code",
      "execution_count": 24,
      "metadata": {
        "id": "382hcR95ol5M",
        "colab": {
          "base_uri": "https://localhost:8080/"
        },
        "outputId": "2c87fc2d-d528-4062-bab2-a7ab5458ac15"
      },
      "outputs": [
        {
          "output_type": "execute_result",
          "data": {
            "text/plain": [
              "2200.0"
            ]
          },
          "metadata": {},
          "execution_count": 24
        }
      ],
      "source": [
        "def calculate_total_with_tax(price, tax):\n",
        "    total = price *(1 + tax)\n",
        "    return total\n",
        "\n",
        "calculate_total_with_tax(2000,0.10)\n"
      ]
    }
  ]
}